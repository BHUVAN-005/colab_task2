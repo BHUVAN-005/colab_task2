{
  "nbformat": 4,
  "nbformat_minor": 0,
  "metadata": {
    "colab": {
      "provenance": [],
      "toc_visible": true,
      "authorship_tag": "ABX9TyOoxx3JBEz63nyO7fW0j0ND",
      "include_colab_link": true
    },
    "kernelspec": {
      "name": "python3",
      "display_name": "Python 3"
    },
    "language_info": {
      "name": "python"
    }
  },
  "cells": [
    {
      "cell_type": "markdown",
      "metadata": {
        "id": "view-in-github",
        "colab_type": "text"
      },
      "source": [
        "<a href=\"https://colab.research.google.com/github/BHUVAN-005/colab_task2/blob/main/SE_lab2.ipynb\" target=\"_parent\"><img src=\"https://colab.research.google.com/assets/colab-badge.svg\" alt=\"Open In Colab\"/></a>"
      ]
    },
    {
      "cell_type": "code",
      "execution_count": 2,
      "metadata": {
        "colab": {
          "base_uri": "https://localhost:8080/"
        },
        "id": "Ia34nHusnFq6",
        "outputId": "e261898f-c48a-44ca-e349-85a0551f336d"
      },
      "outputs": [
        {
          "output_type": "stream",
          "name": "stdout",
          "text": [
            "Hardcoded Version: Alice's Average = 86.6, Grade = B\n"
          ]
        }
      ],
      "source": [
        "#1 Hardcoded Version\n",
        "# Student Grade Calculator\n",
        "student_name = \"Alice\"\n",
        "marks = [85, 90, 78, 92, 88]\n",
        "average = sum(marks) / len(marks)\n",
        "\n",
        "\n",
        "if average >= 90:\n",
        "    grade = 'A'\n",
        "elif average >= 80:\n",
        "    grade = 'B'\n",
        "elif average >= 70:\n",
        "    grade = 'C'\n",
        "elif average >= 60:\n",
        "    grade = 'D'\n",
        "else:\n",
        "    grade = 'F'\n",
        "\n",
        "print(f\"Hardcoded Version: {student_name}'s Average = {average}, Grade = {grade}\")\n"
      ]
    },
    {
      "cell_type": "code",
      "source": [
        "#2\n",
        "# Keyboard Input Version\n",
        "try:\n",
        "    student_name = input(\"Enter the student's name: \")\n",
        "    num_subjects = int(input(\"Enter the number of subjects: \"))\n",
        "    marks = []\n",
        "\n",
        "    for i in range(num_subjects):\n",
        "        mark = float(input(f\"Enter the marks for subject {i + 1}: \"))\n",
        "        marks.append(mark)\n",
        "\n",
        "    average = sum(marks) / len(marks)\n",
        "\n",
        "    # Determine grade\n",
        "    if average >= 90:\n",
        "        grade = 'A'\n",
        "    elif average >= 80:\n",
        "        grade = 'B'\n",
        "    elif average >= 70:\n",
        "        grade = 'C'\n",
        "    elif average >= 60:\n",
        "        grade = 'D'\n",
        "    else:\n",
        "        grade = 'F'\n",
        "\n",
        "    print(f\"Keyboard Input Version: {student_name}'s Average = {average}, Grade = {grade}\")\n",
        "except ValueError:\n",
        "    print(\"Invalid input! Please enter numeric values.\")\n"
      ],
      "metadata": {
        "colab": {
          "base_uri": "https://localhost:8080/"
        },
        "id": "cQDbIYWgwCF8",
        "outputId": "c95a056b-456d-4386-e230-fc5ab02adb8e"
      },
      "execution_count": 4,
      "outputs": [
        {
          "output_type": "stream",
          "name": "stdout",
          "text": [
            "Enter the student's name: Harshitha\n",
            "Enter the number of subjects: 3\n",
            "Enter the marks for subject 1: 20\n",
            "Enter the marks for subject 2: 30\n",
            "Enter the marks for subject 3: 40\n",
            "Keyboard Input Version: Harshitha's Average = 30.0, Grade = F\n"
          ]
        }
      ]
    },
    {
      "cell_type": "code",
      "source": [
        "#3\n",
        "# File Input (Single Set) Version\n",
        "try:\n",
        "    with open('student_single.txt', 'r') as file:\n",
        "        student_name = file.readline().strip()\n",
        "        marks = list(map(float, file.readline().strip().split(',')))\n",
        "\n",
        "        average = sum(marks) / len(marks)\n",
        "\n",
        "        # Determine grade\n",
        "        if average >= 90:\n",
        "            grade = 'A'\n",
        "        elif average >= 80:\n",
        "            grade = 'B'\n",
        "        elif average >= 70:\n",
        "            grade = 'C'\n",
        "        elif average >= 60:\n",
        "            grade = 'D'\n",
        "        else:\n",
        "            grade = 'F'\n",
        "\n",
        "        print(f\"Single File Input Version: {student_name}'s Average = {average}, Grade = {grade}\")\n",
        "except FileNotFoundError:\n",
        "    print(\"The file 'student_single.txt' was not found.\")\n",
        "except ValueError:\n",
        "    print(\"Ensure the file contains valid numeric marks.\")\n"
      ],
      "metadata": {
        "colab": {
          "base_uri": "https://localhost:8080/"
        },
        "id": "hfrc8XHrwCmu",
        "outputId": "f9f1d8ab-af20-4c97-ccc3-351ca4b26ad7"
      },
      "execution_count": 5,
      "outputs": [
        {
          "output_type": "stream",
          "name": "stdout",
          "text": [
            "Single File Input Version: Bhuvan's Average = 86.6, Grade = B\n"
          ]
        }
      ]
    },
    {
      "cell_type": "code",
      "source": [
        "#4\n",
        "# File Input (Multiple Sets) Version\n",
        "try:\n",
        "    with open('student_multiple.txt', 'r') as file:\n",
        "        print(\"Multiple File Input Version:\")\n",
        "        for line in file:\n",
        "            data = line.strip().split(',')\n",
        "            student_name = data[0]\n",
        "            marks = list(map(float, data[1:]))\n",
        "\n",
        "            average = sum(marks) / len(marks)\n",
        "\n",
        "            # Determine grade\n",
        "            if average >= 90:\n",
        "                grade = 'A'\n",
        "            elif average >= 80:\n",
        "                grade = 'B'\n",
        "            elif average >= 70:\n",
        "                grade = 'C'\n",
        "            elif average >= 60:\n",
        "                grade = 'D'\n",
        "            else:\n",
        "                grade = 'F'\n",
        "\n",
        "            print(f\"{student_name}'s Average = {average}, Grade = {grade}\")\n",
        "except FileNotFoundError:\n",
        "    print(\"The file 'student_multiple.txt' was not found.\")\n",
        "except ValueError:\n",
        "    print(\"Ensure the file contains valid student names and marks.\")\n"
      ],
      "metadata": {
        "colab": {
          "base_uri": "https://localhost:8080/"
        },
        "id": "oZb7mqwjwJET",
        "outputId": "0ed8b560-aa67-4157-98ab-50293329d2d9"
      },
      "execution_count": 6,
      "outputs": [
        {
          "output_type": "stream",
          "name": "stdout",
          "text": [
            "Multiple File Input Version:\n",
            "Alice's Average = 86.6, Grade = B\n",
            "Bob's Average = 80.0, Grade = B\n",
            "Charlie's Average = 93.4, Grade = A\n"
          ]
        }
      ]
    },
    {
      "cell_type": "code",
      "source": [
        "!git config --global user.name \"BHUVAN-005\"\n",
        "!git config --global user.email \"knssbhuvan.2005@gmail.com\"\n",
        "\n"
      ],
      "metadata": {
        "id": "vsE0cECPzIJt"
      },
      "execution_count": 7,
      "outputs": []
    },
    {
      "cell_type": "code",
      "source": [
        "!git clone https://github.com/BHUVAN-005/SE_lab2.git\n"
      ],
      "metadata": {
        "colab": {
          "base_uri": "https://localhost:8080/"
        },
        "id": "xVrcP3JO12Tx",
        "outputId": "43d6d949-c8e1-4266-8b8b-bb553cd0ee54"
      },
      "execution_count": 8,
      "outputs": [
        {
          "output_type": "stream",
          "name": "stdout",
          "text": [
            "Cloning into 'SE_lab2'...\n",
            "warning: You appear to have cloned an empty repository.\n"
          ]
        }
      ]
    }
  ]
}